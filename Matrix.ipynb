{
 "cells": [
  {
   "cell_type": "markdown",
   "metadata": {
    "collapsed": false
   },
   "source": [
    "# Matrix\n",
    "\n",
    "This matrix is defined by creating a block of memory that is row\\*columns in size. This sets asside the memory we need for the matrix. It also has a pointer that points to the beginning address of the matrix object.\n",
    "\n",
    "Row-major ordering treats rows as their own \"object\", with each element of the row being an element of a different coluumn. Whereas column-major ordering treats columns as their own objects with each element of the column being an element of a different row.\n",
    "\n",
    "C uses row-major ordering, just like Python, but unlike R (although in python you can probably overcome this by using pandas?)"
   ]
  },
  {
   "cell_type": "markdown",
   "metadata": {
    "collapsed": false
   },
   "source": [
    "We *could* force C to use the non default way if we wanted, all we have to  do is adjust the way we move  around the matrix. I believe the matrix is essentially like one long array, there's no dimensions there, we're creating that ourselves, all C cares is how many \"places\" to move over, which we can define any way we want."
   ]
  },
  {
   "cell_type": "code",
   "execution_count": 0,
   "metadata": {
    "collapsed": false
   },
   "outputs": [
   ],
   "source": [
   ]
  }
 ],
 "metadata": {
  "kernelspec": {
   "display_name": "Python 3 (Anaconda)",
   "language": "python",
   "name": "anaconda3"
  },
  "language_info": {
   "codemirror_mode": {
    "name": "ipython",
    "version": 3
   },
   "file_extension": ".py",
   "mimetype": "text/x-python",
   "name": "python",
   "nbconvert_exporter": "python",
   "pygments_lexer": "ipython3",
   "version": "3.5.4"
  }
 },
 "nbformat": 4,
 "nbformat_minor": 0
}