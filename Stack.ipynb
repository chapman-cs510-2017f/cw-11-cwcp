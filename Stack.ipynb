{
 "cells": [
  {
   "cell_type": "markdown",
   "metadata": {
    "collapsed": false
   },
   "source": [
    "# STACK\n",
    "\n",
    "The stack type consists of a value and a pointer. The value is the top pancake of the stack, and the pointer tells us where the  next pancake is. And so on and so  on, it's turtles (or pointers) all the way  down. The next  stack item has a value and a pointer until the last pancake which has a value and a NULL pointer.\n",
    "\n",
    "The stack is defined as  a pointer  because all you need to know is where the first pancake is, then you go to that  addres, get the pancake, and get the  address of the next pancake until you get to a pancake that has no address associated.\n",
    "\n"
   ]
  }
 ],
 "metadata": {
  "kernelspec": {
   "display_name": "Python 3 (Anaconda)",
   "language": "python",
   "name": "anaconda3"
  },
  "language_info": {
   "codemirror_mode": {
    "name": "ipython",
    "version": 3
   },
   "file_extension": ".py",
   "mimetype": "text/x-python",
   "name": "python",
   "nbconvert_exporter": "python",
   "pygments_lexer": "ipython3",
   "version": "3.5.4"
  }
 },
 "nbformat": 4,
 "nbformat_minor": 0
}